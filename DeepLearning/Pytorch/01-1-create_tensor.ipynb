{
 "metadata": {
  "language_info": {
   "codemirror_mode": {
    "name": "ipython",
    "version": 3
   },
   "file_extension": ".py",
   "mimetype": "text/x-python",
   "name": "python",
   "nbconvert_exporter": "python",
   "pygments_lexer": "ipython3",
   "version": "3.7.9-final"
  },
  "orig_nbformat": 2,
  "kernelspec": {
   "name": "python3",
   "display_name": "Python 3.7.9 64-bit ('dl': conda)",
   "metadata": {
    "interpreter": {
     "hash": "04555e28157a9569ed15e47b421d44e061b20998244f032aa8114aee7bec1a7a"
    }
   }
  }
 },
 "nbformat": 4,
 "nbformat_minor": 2,
 "cells": [
  {
   "source": [
    "# 01-01 创建tensor\n",
    "创建tensor的几种方式：\n",
    "- 直接创建\n",
    "- 依据数值创建\n",
    "- 依概率分布创建"
   ],
   "cell_type": "markdown",
   "metadata": {}
  },
  {
   "cell_type": "code",
   "execution_count": 4,
   "metadata": {},
   "outputs": [
    {
     "output_type": "execute_result",
     "data": {
      "text/plain": [
       "<torch._C.Generator at 0x7faf5818d8b0>"
      ]
     },
     "metadata": {},
     "execution_count": 4
    }
   ],
   "source": [
    "import torch\n",
    "import numpy as np\n",
    "torch.manual_seed(1)"
   ]
  },
  {
   "cell_type": "code",
   "execution_count": 5,
   "metadata": {},
   "outputs": [
    {
     "output_type": "stream",
     "name": "stdout",
     "text": [
      "ndarray的数据类型： float64\ntensor([[1., 1., 1.],\n        [1., 1., 1.],\n        [1., 1., 1.]], device='cuda:0', dtype=torch.float64)\n"
     ]
    }
   ],
   "source": [
    "# 通过torch.tensor创建张量\n",
    "arr = np.ones((3, 3))\n",
    "print(\"ndarray的数据类型：\", arr.dtype)\n",
    "\n",
    "t = torch.tensor(arr, device='cuda')\n",
    "# t = torch.tensor(arr)\n",
    "\n",
    "print(t)"
   ]
  },
  {
   "cell_type": "code",
   "execution_count": 6,
   "metadata": {},
   "outputs": [
    {
     "output_type": "stream",
     "name": "stdout",
     "text": [
      "numpy array:  [[1 2 3]\n [4 5 6]]\ntensor :  tensor([[1, 2, 3],\n        [4, 5, 6]])\n\n修改arr\nnumpy array:  [[0 2 3]\n [4 5 6]]\ntensor :  tensor([[0, 2, 3],\n        [4, 5, 6]])\n\n修改tensor\nnumpy array:  [[-1  2  3]\n [ 4  5  6]]\ntensor :  tensor([[-1,  2,  3],\n        [ 4,  5,  6]])\n"
     ]
    }
   ],
   "source": [
    "# 通过torch.from_numpy创建张量\n",
    "# 共用内存\n",
    "arr = np.array([[1, 2, 3], [4, 5, 6]])\n",
    "t = torch.from_numpy(arr)\n",
    "print(\"numpy array: \", arr)\n",
    "print(\"tensor : \", t)\n",
    "\n",
    "print(\"\\n修改arr\")\n",
    "arr[0, 0] = 0\n",
    "print(\"numpy array: \", arr)\n",
    "print(\"tensor : \", t)\n",
    "\n",
    "print(\"\\n修改tensor\")\n",
    "t[0, 0] = -1\n",
    "print(\"numpy array: \", arr)\n",
    "print(\"tensor : \", t)"
   ]
  },
  {
   "cell_type": "code",
   "execution_count": null,
   "metadata": {},
   "outputs": [],
   "source": []
  }
 ]
}